{
 "metadata": {
  "language_info": {
   "codemirror_mode": {
    "name": "ipython",
    "version": 3
   },
   "file_extension": ".py",
   "mimetype": "text/x-python",
   "name": "python",
   "nbconvert_exporter": "python",
   "pygments_lexer": "ipython3",
   "version": "3.8.5-final"
  },
  "orig_nbformat": 2,
  "kernelspec": {
   "name": "python3",
   "display_name": "Python 3.8.5 64-bit",
   "metadata": {
    "interpreter": {
     "hash": "2db524e06e9f5f4ffedc911c917cb75e12dbc923643829bf417064a77eb14d37"
    }
   }
  }
 },
 "nbformat": 4,
 "nbformat_minor": 2,
 "cells": [
  {
   "source": [
    "# How close was the 2020 US Presidential Election?\n",
    "\n"
   ],
   "cell_type": "markdown",
   "metadata": {}
  },
  {
   "source": [
    "## Introduction\n",
    "\n",
    "Before diving into this question, let us define some key concepts first."
   ],
   "cell_type": "markdown",
   "metadata": {}
  },
  {
   "source": [
    "### The Electoral College\n",
    "\n",
    "It is often said that the US Presidential Election system, especially the [Electoral College](https://en.wikipedia.org/wiki/United_States_Electoral_College) mechanism, is a bad system. In summary, the Electoral College is the part of the process where the vote of each states are translated to a number of \"electors\", vaguely proportional to the population of the state. These electors then perform a second turn of voting whose result is the actual result of the election.\n",
    "\n",
    "Common issues with the Electoral College includes:\n",
    "\n",
    "- Most states use a \"winner-take-all\" system, which can discourage voters of states where the outcome is not expected to change\n",
    "- The number of electors of each state is not proportional to the population of each state, giving an artificial advantage to some states\n",
    "- The popular vote winner may not be the actual winner, even with a significant margin. This is not a trivial quirk of the system, as it already happened twice this century (as of 2021).\n",
    "- More than 3 million people in the [US Territories](https://en.wikipedia.org/wiki/Territories_of_the_United_States) cannot vote to elect their leader\n",
    "\n",
    "The following assumes that the reader has a basic grasp on the working of the Electoral College mechanism."
   ],
   "cell_type": "markdown",
   "metadata": {}
  },
  {
   "source": [
    "### Election result stability\n",
    "\n",
    "Here we introduce a new concept (or a not-new concept, I'm not a social choice theory expert), called **election result stability**. We define it as *the minimal number of voters that would have to change their vote to overturn the result of an election*. It is expressed as a percentage of the total number of voters (excluding spoiled ballots and \"None of the above\"-type votes).\n",
    "\n",
    "For example, in the second round of the [2017 French election](https://en.wikipedia.org/wiki/2017_French_presidential_election):\n",
    "- Emmanuel Macron won with 66.1% ($V_{M}$) of the vote\n",
    "- Marine Le Pen lost with 33.9% ($V_{LP}$) of the vote\n",
    "\n",
    "So the election result stability $S$ would trivially be:\n",
    "\n",
    "$S = \\frac{V_{M} - V_{LP}}{2} = 16.1\\%$\n",
    "\n",
    "and indeed, we see that $V_{LP} + S = 50\\%$, the score needed to overturn the election.\n",
    "\n",
    "If this example seems extremely simple, it's because the French presidential election, while not perfect, uses a system that is actually sane and produces a result that is clear for everyone to understand and trust.\n",
    "\n",
    "With that said, let's return to the US Presidential Election."
   ],
   "cell_type": "markdown",
   "metadata": {}
  },
  {
   "source": [
    "## Problem definition\n",
    "\n",
    "Here we concentrate on the [2020 US Presidential Election](https://en.wikipedia.org/wiki/2020_United_States_presidential_election), won by Joe Biden over Donald Trump by an Electoral College victory of 321-306 (margin: 25) and, anecdotally, by a popular vote victory of 51%-47% (margin: 4%). We will answer the following question:\n",
    "\n",
    "> What is the election result stability of the election?\n",
    "\n",
    "or, in other words\n",
    "\n",
    "> How many voters changing their vote would be sufficient to reverse the election?\n",
    "\n",
    "This is a surprisingly hard question to answer, as we can imagine a number of different scenarios where the results would be overturned (e.g. California voting for Trump for some reason), but each of them would require a different number of voters changing their vote.\n",
    "\n",
    "To simplify our analysis, we make a few hypotheses:\n",
    "- Ignore 3rd party voters (Sorry to Jo Jorgensen, the only female presidential candidate 😬)\n",
    "- Ignore \"None of the Above\" voters (But kudos for putting principles before reality)\n",
    "- Ignore the special rules surrounding Maine and Nebraska's congressional districts (assume all EV go to the state popular winner)\n",
    "- No faithless electors, i.e. assume the result of the electoral college will be correctly translated in the second turn\n",
    "\n",
    "Technical note: the first two hypotheses make our model simpler, but won't affect the absolute number of voters change needed. Indeed, the quickest path to overturn the election is converting Biden voters to Trump voters.\n",
    "\n",
    "With that being said, let's get our hands dirty 🙌"
   ],
   "cell_type": "markdown",
   "metadata": {}
  },
  {
   "source": [
    "# Data\n",
    "\n",
    "We will use two datasets for our analysis\n",
    "- [Results of US Election](https://dataverse.harvard.edu/dataset.xhtml?persistentId=doi:10.7910/DVN/42MVDX) by the MIT ElectionLab, retrieved on 2021-03-02\n",
    "- A [custom-made dataset of the number of electors in each state](electoral-college-electors.csv) (based on [this article](https://www.britannica.com/topic/United-States-Electoral-College-Votes-by-State-1787124))\n",
    "\n",
    "Also notable, even if not directly used:\n",
    "- [Official results](https://www.fec.gov/resources/cms-content/documents/2020presgeresults.pdf) by the FEC"
   ],
   "cell_type": "markdown",
   "metadata": {}
  },
  {
   "source": [
    "# Code\n",
    "\n",
    "Let's load the data and combine our datasets in a single data structure."
   ],
   "cell_type": "markdown",
   "metadata": {}
  },
  {
   "cell_type": "code",
   "execution_count": 13,
   "metadata": {},
   "outputs": [
    {
     "output_type": "stream",
     "name": "stdout",
     "text": [
      "Got data for 51 states\n"
     ]
    }
   ],
   "source": [
    "import csv\n",
    "\n",
    "# Data structure:\n",
    "# state_data[STATE_NAME] = {\n",
    "#    'DEMOCRAT': nb of votes for BIDEN\n",
    "#    'REPUBLICAN': nb of votes for TRUMP\n",
    "#    'ec_count': nb of electoral college electors\n",
    "#    'total_relevant_votes': total number of voters (exl. 3rd-party and NOTA voters)\n",
    "# }\n",
    "state_data = {}\n",
    "\n",
    "# Parse election results\n",
    "with open(\"1976-2020-president.csv\") as f:\n",
    "    reader = csv.DictReader(f)\n",
    "    for row in reader:\n",
    "        if row[\"year\"] != \"2020\":\n",
    "            continue\n",
    "\n",
    "        # Ignore 3rd party and NOTA\n",
    "        if row[\"party_simplified\"] not in [\"DEMOCRAT\", \"REPUBLICAN\"]:\n",
    "            continue\n",
    "\n",
    "        # Sanity checks\n",
    "        assert row[\"office\"] == \"US PRESIDENT\"\n",
    "        if \"BIDEN\" not in row[\"candidate\"] and \"TRUMP\" not in row[\"candidate\"]:\n",
    "            raise Exception(\"Unexpected candidate \" + str(row))\n",
    "\n",
    "        # Initialize row in state_data\n",
    "        state = row[\"state\"]\n",
    "        if state not in state_data:\n",
    "            state_data[state] = {}\n",
    "\n",
    "        # Store result data\n",
    "        party = row[\"party_simplified\"]\n",
    "        if party in state_data[state]:\n",
    "            raise Exception(\"Duplicate result for \" + state + \" \" + party)\n",
    "        state_data[state][party] = int(row[\"candidatevotes\"])\n",
    "\n",
    "# Compute total of relevant votes\n",
    "for state, data in state_data.items():\n",
    "    state_data[state][\"total_relevant_votes\"] = state_data[state][\"DEMOCRAT\"] + state_data[state][\"REPUBLICAN\"]\n",
    "\n",
    "# Parse electoral college data\n",
    "with open(\"electoral-college-electors.csv\") as f:\n",
    "    reader = csv.DictReader(f)\n",
    "    for row in reader:\n",
    "        state = row[\"state\"].upper()\n",
    "        if state not in state_data:\n",
    "            raise Exception(\"Unrecognized state\", state)\n",
    "        state_data[state][\"ec_count\"] = int(row[\"nbElectors\"])\n",
    "\n",
    "print(\"Got data for\", len(state_data), \"states\")"
   ]
  },
  {
   "source": [
    "As a quick check, let's make sure that we got the same results as the official ones (at least for the electoral college)."
   ],
   "cell_type": "markdown",
   "metadata": {}
  },
  {
   "cell_type": "code",
   "execution_count": 14,
   "metadata": {},
   "outputs": [
    {
     "output_type": "stream",
     "name": "stdout",
     "text": [
      "Reproducing the election results: OK\n"
     ]
    }
   ],
   "source": [
    "# Check if we reproduce the results\n",
    "\n",
    "electorsForBiden = 0\n",
    "electorsForTrump = 0\n",
    "for state, results in state_data.items():\n",
    "    if results[\"REPUBLICAN\"] > results[\"DEMOCRAT\"]:\n",
    "        electorsForTrump += results[\"ec_count\"]\n",
    "    else:\n",
    "        electorsForBiden += results[\"ec_count\"]\n",
    "\n",
    "assert electorsForBiden == 306\n",
    "assert electorsForTrump == 232\n",
    "\n",
    "print(\"Reproducing the election results: OK\")"
   ]
  },
  {
   "source": [
    "Then, let's generate all scenarios that would result in a Trump win, and count the number of voters that would have to vote differently in that scenario.\n",
    "\n",
    "Technical note: We don't use a particularily clever approach here.\n",
    "We iterate over all possible paths, with a few optimizations:\n",
    "- Once the current path requires more voters than the currently known best result, we skip the rest of the branch\n",
    "- We check for duplicate paths (e.g. ARIZONA-NEVADA and NEVADA-ARIZONA), and skip them when encountered"
   ],
   "cell_type": "markdown",
   "metadata": {}
  },
  {
   "cell_type": "code",
   "execution_count": 15,
   "metadata": {},
   "outputs": [
    {
     "output_type": "stream",
     "name": "stdout",
     "text": [
      "Found best path: ARIZONA GEORGIA MICHIGAN NEVADA PENNSYLVANIA WISCONSIN with a score of 155633 votes\nDetails:\n\t ARIZONA : 5229 votes = 0.16 % of the state voters\n\t GEORGIA : 5890 votes = 0.12 % of the state voters\n\t MICHIGAN : 77095 votes = 1.41 % of the state voters\n\t NEVADA : 16799 votes = 1.22 % of the state voters\n\t PENNSYLVANIA : 40278 votes = 0.59 % of the state voters\n\t WISCONSIN : 10342 votes = 0.32 % of the state voters\n\n Election result stability: 155633  /  155485054 = 0.1 %\n"
     ]
    }
   ],
   "source": [
    "import math\n",
    "\n",
    "electorsDiff = electorsForBiden - electorsForTrump\n",
    "statesForBiden = [\n",
    "    state for state, data in state_data.items() if data[\"DEMOCRAT\"] > data[\"REPUBLICAN\"]\n",
    "]\n",
    "\n",
    "minKnownVotes = 250000000  # Initial value: estimation of the total US population\n",
    "\n",
    "\n",
    "# Helper function\n",
    "def sumOfVoteChangesToOverturn(states):\n",
    "    \"\"\" Return the number of voters that needs to change their vote for all the states in `states` to change result \"\"\"\n",
    "    acc = 0\n",
    "    for state in states:\n",
    "        nbDiffVotes = state_data[state][\"DEMOCRAT\"] - state_data[state][\"REPUBLICAN\"]\n",
    "        if nbDiffVotes % 2 == 0:\n",
    "            acc += int(nbDiffVotes / 2) + 1\n",
    "        else:\n",
    "            acc += math.ceil(nbDiffVotes / 2)\n",
    "    return acc\n",
    "\n",
    "\n",
    "# We will iterate over all scenarios in a very naive way that results in a lot of duplicate\n",
    "# As a quick optimization, we mark the scenarios already encountered to avoid repeating ourselves\n",
    "already_tried = set()\n",
    "\n",
    "\n",
    "def getCanonicalForm(path, remainingElectors):\n",
    "    return \"-\".join(sorted(path)) + \"-\" + str(remainingElectors)\n",
    "\n",
    "\n",
    "# generator that will yield all possible scenarios where the election is overturned\n",
    "def allPossiblePaths(prevStates, states, electorsDiff):\n",
    "    # print('all', states, electorsDiff)\n",
    "\n",
    "    canonicalForm = getCanonicalForm(prevStates, electorsDiff)\n",
    "    if canonicalForm in already_tried:\n",
    "        return []\n",
    "    already_tried.add(canonicalForm)\n",
    "\n",
    "    if sumOfVoteChangesToOverturn(prevStates) > minKnownVotes:\n",
    "        return []\n",
    "\n",
    "    for state in states:\n",
    "        ecCount = state_data[state][\"ec_count\"]\n",
    "\n",
    "        if ecCount <= electorsDiff:\n",
    "            # Adding this state does not overturn the election\n",
    "            # Add to path, then continue exploring \n",
    "            for nextPath in allPossiblePaths(\n",
    "                prevStates + [state],\n",
    "                [s for s in states if s != state],\n",
    "                electorsDiff - ecCount,\n",
    "            ):\n",
    "                yield [state] + nextPath\n",
    "\n",
    "        if ecCount > electorsDiff:\n",
    "            # Adding this state overturn the election\n",
    "            # => Add to path, but stop there\n",
    "            yield [state]\n",
    "            continue\n",
    "\n",
    "bestPath = None\n",
    "\n",
    "for path in allPossiblePaths([], statesForBiden, electorsDiff):\n",
    "    pathScore = sumOfVoteChangesToOverturn(path)\n",
    "    if pathScore < minKnownVotes:\n",
    "        minKnownVotes = pathScore\n",
    "        bestPath = path\n",
    "\n",
    "print(\"Found best path:\", \" \".join(bestPath), \"with a score of\", minKnownVotes, \"votes\")\n",
    "\n",
    "print(\"Details:\")\n",
    "for state in bestPath:\n",
    "    diff = sumOfVoteChangesToOverturn([state])\n",
    "    print(\n",
    "        \"\\t\",\n",
    "        state,\n",
    "        \":\",\n",
    "        diff,\n",
    "        \"votes =\",\n",
    "        round(diff * 100 / state_data[state][\"total_relevant_votes\"], 2),\n",
    "        \"% of the state voters\",\n",
    "    )\n",
    "\n",
    "# Compare to the total number of voters\n",
    "totalRelevantVoters = sum([ data[\"total_relevant_votes\"] for data in state_data.values() ] )\n",
    "electionResultsStability = (minKnownVotes * 100) / totalRelevantVoters\n",
    "\n",
    "print(\"\\n\", \"Election result stability:\", minKnownVotes, \" / \", totalRelevantVoters, \"=\", round(electionResultsStability, 2), \"%\")\n"
   ]
  },
  {
   "source": [
    "## Result\n",
    "\n",
    "In summary, the answer to our question is:\n",
    "- 155633 strategically chosen voters could change the result of the election by modifying their vote (From Biden to Trump)\n",
    "- This represents 0.1% (one tenth of a percent) of the total voters\n",
    "\n",
    "## Conclusion\n",
    "\n",
    "The election result stability that was found in this analysis gives us a different sense of how close the election was, and how stable its result is. It can be seen as the \"critical path\" margin.\n",
    "\n",
    "In our opinion, it is more accurate than the more immediate values that are often discussed, such as the electoral college margin (5%, aka \"a landslide\") or the popular vote margin (4.5%). Here, we both see that the election was really close, and that its result was very unstable. However, we also realize that this is a very specific definition of the margin, so it must be discussed with the full context (e.g. only one specific set of changes of 0.1% of votes would overturn the election, not any random changes of that size).\n",
    "\n",
    "An interesting further work would be to compute the flipside value, the \"maximal resilience\", i.e. the maximal number of Biden->Trump changes that can happen without overturning the election. Because of the electoral college quirkyness, this number will probably be laughably huge. Note that in a more straightforward system (e.g. the French election discussed above), the stability and the maximal resilience would be equal."
   ],
   "cell_type": "markdown",
   "metadata": {}
  }
 ]
}